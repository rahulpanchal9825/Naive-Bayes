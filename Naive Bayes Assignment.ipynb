{
 "cells": [
  {
   "cell_type": "markdown",
   "id": "441af349",
   "metadata": {},
   "source": [
    "1) Prepare a classification model using Naive Bayes \n",
    "for salary data \n",
    "\n",
    "Data Description:\n",
    "\n",
    "age -- age of a person\n",
    "workclass\t-- A work class is a grouping of work \n",
    "education\t-- Education of an individuals\t\n",
    "maritalstatus -- Marital status of an individulas\t\n",
    "occupation\t -- occupation of an individuals\n",
    "relationship -- \t\n",
    "race --  Race of an Individual\n",
    "sex --  Gender of an Individual\n",
    "capitalgain --  profit received from the sale of an investment\t\n",
    "capitalloss\t-- A decrease in the value of a capital asset\n",
    "hoursperweek -- number of hours work per week\t\n",
    "native -- Native of an individual\n",
    "Salary -- salary of an individual\n"
   ]
  },
  {
   "cell_type": "code",
   "execution_count": 29,
   "id": "7ceecb0f",
   "metadata": {},
   "outputs": [],
   "source": [
    "#import libraby\n",
    "import pandas as pd\n",
    "from sklearn import svm\n",
    "from sklearn.svm import SVC\n",
    "from sklearn.model_selection import GridSearchCV\n",
    "from sklearn.metrics import classification_report\n",
    "from sklearn.metrics import accuracy_score, confusion_matrix\n",
    "from sklearn.model_selection import train_test_split ,cross_val_score\n",
    "import numpy as np"
   ]
  },
  {
   "cell_type": "code",
   "execution_count": 30,
   "id": "d2ef02cf",
   "metadata": {},
   "outputs": [],
   "source": [
    "# load dataset\n",
    "sal_train=pd.read_csv(\"E:\\\\DATA SCIENCE\\\\LMS\\\\ASSIGNMENT\\\\MY ASSIGNMENT\\\\SVM\\\\SalaryData_Train.csv\")\n",
    "# load dataset\n",
    "sal_test=pd.read_csv(\"E:\\\\DATA SCIENCE\\\\LMS\\\\ASSIGNMENT\\\\MY ASSIGNMENT\\\\SVM\\\\SalaryData_Test.csv\")"
   ]
  },
  {
   "cell_type": "code",
   "execution_count": 31,
   "id": "22ad1949",
   "metadata": {},
   "outputs": [
    {
     "data": {
      "text/plain": [
       " <=50K    22653\n",
       " >50K      7508\n",
       "Name: Salary, dtype: int64"
      ]
     },
     "execution_count": 31,
     "metadata": {},
     "output_type": "execute_result"
    }
   ],
   "source": [
    "#check value of count of columns\n",
    "sal_train['Salary'].value_counts()"
   ]
  },
  {
   "cell_type": "code",
   "execution_count": 32,
   "id": "b5928ab6",
   "metadata": {},
   "outputs": [
    {
     "data": {
      "text/plain": [
       " <=50K    11360\n",
       " >50K      3700\n",
       "Name: Salary, dtype: int64"
      ]
     },
     "execution_count": 32,
     "metadata": {},
     "output_type": "execute_result"
    }
   ],
   "source": [
    "#check value of count of columns\n",
    "sal_test['Salary'].value_counts()"
   ]
  },
  {
   "cell_type": "code",
   "execution_count": 33,
   "id": "614aed46",
   "metadata": {},
   "outputs": [
    {
     "data": {
      "text/plain": [
       "age              0\n",
       "workclass        0\n",
       "education        0\n",
       "educationno      0\n",
       "maritalstatus    0\n",
       "occupation       0\n",
       "relationship     0\n",
       "race             0\n",
       "sex              0\n",
       "capitalgain      0\n",
       "capitalloss      0\n",
       "hoursperweek     0\n",
       "native           0\n",
       "Salary           0\n",
       "dtype: int64"
      ]
     },
     "execution_count": 33,
     "metadata": {},
     "output_type": "execute_result"
    }
   ],
   "source": [
    "#check null value\n",
    "sal_test.isna().sum()"
   ]
  },
  {
   "cell_type": "code",
   "execution_count": 34,
   "id": "3bc28d1f",
   "metadata": {},
   "outputs": [
    {
     "data": {
      "text/plain": [
       "age              0\n",
       "workclass        0\n",
       "education        0\n",
       "educationno      0\n",
       "maritalstatus    0\n",
       "occupation       0\n",
       "relationship     0\n",
       "race             0\n",
       "sex              0\n",
       "capitalgain      0\n",
       "capitalloss      0\n",
       "hoursperweek     0\n",
       "native           0\n",
       "Salary           0\n",
       "dtype: int64"
      ]
     },
     "execution_count": 34,
     "metadata": {},
     "output_type": "execute_result"
    }
   ],
   "source": [
    "#check null value\n",
    "sal_train.isna().sum()"
   ]
  },
  {
   "cell_type": "code",
   "execution_count": 47,
   "id": "32e361b7",
   "metadata": {},
   "outputs": [],
   "source": [
    "string_col=['workclass','education','maritalstatus','occupation','relationship','race','sex','native','Salary']"
   ]
  },
  {
   "cell_type": "code",
   "execution_count": 48,
   "id": "285934d4",
   "metadata": {},
   "outputs": [],
   "source": [
    "# we need to convert string columns using labelencoder\n",
    "from sklearn import preprocessing\n",
    "label_encoder=preprocessing.LabelEncoder()\n",
    "for i in string_col:\n",
    "    sal_train[i]=label_encoder.fit_transform(sal_train[i])\n",
    "    sal_test[i]=label_encoder.fit_transform(sal_test[i])"
   ]
  },
  {
   "cell_type": "code",
   "execution_count": 49,
   "id": "d34000e6",
   "metadata": {},
   "outputs": [
    {
     "data": {
      "text/html": [
       "<div>\n",
       "<style scoped>\n",
       "    .dataframe tbody tr th:only-of-type {\n",
       "        vertical-align: middle;\n",
       "    }\n",
       "\n",
       "    .dataframe tbody tr th {\n",
       "        vertical-align: top;\n",
       "    }\n",
       "\n",
       "    .dataframe thead th {\n",
       "        text-align: right;\n",
       "    }\n",
       "</style>\n",
       "<table border=\"1\" class=\"dataframe\">\n",
       "  <thead>\n",
       "    <tr style=\"text-align: right;\">\n",
       "      <th></th>\n",
       "      <th>age</th>\n",
       "      <th>workclass</th>\n",
       "      <th>education</th>\n",
       "      <th>educationno</th>\n",
       "      <th>maritalstatus</th>\n",
       "      <th>occupation</th>\n",
       "      <th>relationship</th>\n",
       "      <th>race</th>\n",
       "      <th>sex</th>\n",
       "      <th>capitalgain</th>\n",
       "      <th>capitalloss</th>\n",
       "      <th>hoursperweek</th>\n",
       "      <th>native</th>\n",
       "      <th>Salary</th>\n",
       "    </tr>\n",
       "  </thead>\n",
       "  <tbody>\n",
       "    <tr>\n",
       "      <th>0</th>\n",
       "      <td>39</td>\n",
       "      <td>5</td>\n",
       "      <td>9</td>\n",
       "      <td>13</td>\n",
       "      <td>4</td>\n",
       "      <td>0</td>\n",
       "      <td>1</td>\n",
       "      <td>4</td>\n",
       "      <td>1</td>\n",
       "      <td>2174</td>\n",
       "      <td>0</td>\n",
       "      <td>40</td>\n",
       "      <td>37</td>\n",
       "      <td>0</td>\n",
       "    </tr>\n",
       "    <tr>\n",
       "      <th>1</th>\n",
       "      <td>50</td>\n",
       "      <td>4</td>\n",
       "      <td>9</td>\n",
       "      <td>13</td>\n",
       "      <td>2</td>\n",
       "      <td>3</td>\n",
       "      <td>0</td>\n",
       "      <td>4</td>\n",
       "      <td>1</td>\n",
       "      <td>0</td>\n",
       "      <td>0</td>\n",
       "      <td>13</td>\n",
       "      <td>37</td>\n",
       "      <td>0</td>\n",
       "    </tr>\n",
       "    <tr>\n",
       "      <th>2</th>\n",
       "      <td>38</td>\n",
       "      <td>2</td>\n",
       "      <td>11</td>\n",
       "      <td>9</td>\n",
       "      <td>0</td>\n",
       "      <td>5</td>\n",
       "      <td>1</td>\n",
       "      <td>4</td>\n",
       "      <td>1</td>\n",
       "      <td>0</td>\n",
       "      <td>0</td>\n",
       "      <td>40</td>\n",
       "      <td>37</td>\n",
       "      <td>0</td>\n",
       "    </tr>\n",
       "    <tr>\n",
       "      <th>3</th>\n",
       "      <td>53</td>\n",
       "      <td>2</td>\n",
       "      <td>1</td>\n",
       "      <td>7</td>\n",
       "      <td>2</td>\n",
       "      <td>5</td>\n",
       "      <td>0</td>\n",
       "      <td>2</td>\n",
       "      <td>1</td>\n",
       "      <td>0</td>\n",
       "      <td>0</td>\n",
       "      <td>40</td>\n",
       "      <td>37</td>\n",
       "      <td>0</td>\n",
       "    </tr>\n",
       "    <tr>\n",
       "      <th>4</th>\n",
       "      <td>28</td>\n",
       "      <td>2</td>\n",
       "      <td>9</td>\n",
       "      <td>13</td>\n",
       "      <td>2</td>\n",
       "      <td>9</td>\n",
       "      <td>5</td>\n",
       "      <td>2</td>\n",
       "      <td>0</td>\n",
       "      <td>0</td>\n",
       "      <td>0</td>\n",
       "      <td>40</td>\n",
       "      <td>4</td>\n",
       "      <td>0</td>\n",
       "    </tr>\n",
       "  </tbody>\n",
       "</table>\n",
       "</div>"
      ],
      "text/plain": [
       "   age  workclass  education  educationno  maritalstatus  occupation  \\\n",
       "0   39          5          9           13              4           0   \n",
       "1   50          4          9           13              2           3   \n",
       "2   38          2         11            9              0           5   \n",
       "3   53          2          1            7              2           5   \n",
       "4   28          2          9           13              2           9   \n",
       "\n",
       "   relationship  race  sex  capitalgain  capitalloss  hoursperweek  native  \\\n",
       "0             1     4    1         2174            0            40      37   \n",
       "1             0     4    1            0            0            13      37   \n",
       "2             1     4    1            0            0            40      37   \n",
       "3             0     2    1            0            0            40      37   \n",
       "4             5     2    0            0            0            40       4   \n",
       "\n",
       "   Salary  \n",
       "0       0  \n",
       "1       0  \n",
       "2       0  \n",
       "3       0  \n",
       "4       0  "
      ]
     },
     "execution_count": 49,
     "metadata": {},
     "output_type": "execute_result"
    }
   ],
   "source": [
    "sal_train.head()"
   ]
  },
  {
   "cell_type": "code",
   "execution_count": 50,
   "id": "c33d550a",
   "metadata": {},
   "outputs": [],
   "source": [
    "#Threre are large dataset so split them.\n",
    "train_x=sal_train.iloc[0:500,0:13]\n",
    "train_y=sal_train.iloc[0:500,13]\n",
    "test_x=sal_test.iloc[0:300,0:13]\n",
    "test_y=sal_test.iloc[0:300,13]"
   ]
  },
  {
   "cell_type": "code",
   "execution_count": 70,
   "id": "9d7fa64a",
   "metadata": {},
   "outputs": [
    {
     "name": "stdout",
     "output_type": "stream",
     "text": [
      "accuracy_train_m is = 80.0\n"
     ]
    }
   ],
   "source": [
    "# Preparing a naive bayes model on training data set \n",
    "\n",
    "from sklearn.naive_bayes import MultinomialNB as MB\n",
    "from sklearn.naive_bayes import GaussianNB as GB\n",
    "\n",
    "# Multinomial Naive Bayes\n",
    "classifier_mb = MB()\n",
    "classifier_mb.fit(train_x,train_y)\n",
    "train_pred_m = classifier_mb.predict(test_x)\n",
    "accuracy_train_m = np.mean(train_pred_m==test_y)*100\n",
    "print(\"accuracy_train_m is =\",accuracy_train_m)"
   ]
  },
  {
   "cell_type": "code",
   "execution_count": 84,
   "id": "806bb7e0",
   "metadata": {},
   "outputs": [
    {
     "name": "stdout",
     "output_type": "stream",
     "text": [
      "accuracy_test_m is = 79.0\n"
     ]
    }
   ],
   "source": [
    "test_pred_m = classifier_mb.predict(train_x)\n",
    "accuracy_test_m = np.mean(test_pred_m==train_y)\n",
    "print(\"accuracy_test_m is =\",accuracy_test_m*100)"
   ]
  },
  {
   "cell_type": "code",
   "execution_count": 92,
   "id": "2b677a73",
   "metadata": {},
   "outputs": [],
   "source": [
    "Train_pred_y=pd.DataFrame(test_pred_m)"
   ]
  },
  {
   "cell_type": "code",
   "execution_count": 81,
   "id": "41a40c32",
   "metadata": {},
   "outputs": [
    {
     "name": "stdout",
     "output_type": "stream",
     "text": [
      "accuracy_train_m is = 81.8\n"
     ]
    }
   ],
   "source": [
    "# Gaussian Naive Bayes \n",
    "classifier_gb = GB()\n",
    "classifier_gb.fit(train_x,train_y)\n",
    "train_pred_g = classifier_gb.predict(train_x)\n",
    "accuracy_train_g = np.mean(train_pred_g==train_y)\n",
    "print(\"accuracy_train_m is =\",accuracy_train_g*100)"
   ]
  },
  {
   "cell_type": "code",
   "execution_count": 86,
   "id": "6b9f43d0",
   "metadata": {},
   "outputs": [
    {
     "name": "stdout",
     "output_type": "stream",
     "text": [
      "accuracy_test_g is = 82.0\n"
     ]
    }
   ],
   "source": [
    "test_pred_g = classifier_gb.predict(test_x)\n",
    "accuracy_test_g = np.mean(test_pred_g==test_y)\n",
    "print(\"accuracy_test_g is =\",accuracy_test_g*100)"
   ]
  }
 ],
 "metadata": {
  "kernelspec": {
   "display_name": "Python 3 (ipykernel)",
   "language": "python",
   "name": "python3"
  },
  "language_info": {
   "codemirror_mode": {
    "name": "ipython",
    "version": 3
   },
   "file_extension": ".py",
   "mimetype": "text/x-python",
   "name": "python",
   "nbconvert_exporter": "python",
   "pygments_lexer": "ipython3",
   "version": "3.9.7"
  }
 },
 "nbformat": 4,
 "nbformat_minor": 5
}
